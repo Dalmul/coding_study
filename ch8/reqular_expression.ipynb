{
 "cells": [
  {
   "cell_type": "markdown",
   "id": "3c6cb365",
   "metadata": {},
   "source": [
    "## 정규표현식 (Regular Expression)\n",
    "\n",
    "- 텍스트에서 일치되는 패턴을 찾는 문자열\n",
    "- 일정한 패턴을 가진 문자열을 표현하는 방식\n",
    "- 문자열을 찾거나 바꾸는 데에 활용 가능\n",
    "- 문자열의 정합성 검증에 사용\n",
    "- 파이썬의 경우, 표준 라이브러리인 re를 활용"
   ]
  }
 ],
 "metadata": {
  "language_info": {
   "name": "python"
  }
 },
 "nbformat": 4,
 "nbformat_minor": 5
}
