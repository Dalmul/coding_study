{
 "cells": [
  {
   "cell_type": "code",
   "execution_count": 1,
   "metadata": {},
   "outputs": [
    {
     "name": "stderr",
     "output_type": "stream",
     "text": [
      "[INFO] Start to convert 29. SOP_경영관리_예산관리.pdf\n",
      "[INFO] \u001b[1;36m[1/4] Opening document...\u001b[0m\n",
      "[INFO] \u001b[1;36m[2/4] Analyzing document...\u001b[0m\n",
      "[INFO] \u001b[1;36m[3/4] Parsing pages...\u001b[0m\n",
      "[INFO] (1/18) Page 1\n",
      "[INFO] (2/18) Page 2\n",
      "[INFO] (3/18) Page 3\n",
      "[INFO] (4/18) Page 4\n",
      "[INFO] (5/18) Page 5\n",
      "[INFO] (6/18) Page 6\n",
      "[INFO] (7/18) Page 7\n",
      "[INFO] (8/18) Page 8\n",
      "[INFO] (9/18) Page 9\n",
      "[INFO] (10/18) Page 10\n",
      "[INFO] (11/18) Page 11\n",
      "[INFO] (12/18) Page 12\n",
      "[INFO] (13/18) Page 13\n",
      "[INFO] (14/18) Page 14\n",
      "[INFO] (15/18) Page 15\n",
      "[INFO] (16/18) Page 16\n",
      "[INFO] (17/18) Page 17\n",
      "[INFO] (18/18) Page 18\n",
      "[INFO] \u001b[1;36m[4/4] Creating pages...\u001b[0m\n",
      "[INFO] (1/18) Page 1\n",
      "[INFO] (2/18) Page 2\n",
      "[INFO] (3/18) Page 3\n",
      "[INFO] (4/18) Page 4\n",
      "[INFO] (5/18) Page 5\n",
      "[INFO] (6/18) Page 6\n",
      "[INFO] (7/18) Page 7\n",
      "[INFO] (8/18) Page 8\n",
      "[INFO] (9/18) Page 9\n",
      "[INFO] (10/18) Page 10\n",
      "[INFO] (11/18) Page 11\n",
      "[INFO] (12/18) Page 12\n",
      "[INFO] (13/18) Page 13\n",
      "[INFO] (14/18) Page 14\n",
      "[INFO] (15/18) Page 15\n",
      "[INFO] (16/18) Page 16\n",
      "[INFO] (17/18) Page 17\n",
      "[INFO] (18/18) Page 18\n",
      "[INFO] Terminated in 2.46s.\n"
     ]
    }
   ],
   "source": [
    "import re  # 이 줄을 코드 맨 위에 추가\n",
    "from pdf2docx import Converter\n",
    "# pdf 파일 경로 기입\n",
    "pdf_file = \"29. SOP_경영관리_예산관리.pdf\"\n",
    "\n",
    "# pdf파일 이름 그대로 가져와서 확장자명만 변경 \n",
    "# ex) C:/Users/nickname/Downloads/test_covert.docx\n",
    "docx_file = re.sub(\".pdf\", \".docx\", pdf_file, flags=re.I)\n",
    "\n",
    "\n",
    "# pdf파일 워드로 변환하는 코드\n",
    "cv = Converter(pdf_file)\n",
    "cv.convert(docx_file, start=0, end=None)\n",
    "cv.close()"
   ]
  },
  {
   "cell_type": "code",
   "execution_count": null,
   "metadata": {},
   "outputs": [],
   "source": []
  },
  {
   "cell_type": "code",
   "execution_count": null,
   "metadata": {},
   "outputs": [],
   "source": []
  },
  {
   "cell_type": "code",
   "execution_count": null,
   "metadata": {},
   "outputs": [],
   "source": []
  }
 ],
 "metadata": {
  "kernelspec": {
   "display_name": "Python 3",
   "language": "python",
   "name": "python3"
  },
  "language_info": {
   "codemirror_mode": {
    "name": "ipython",
    "version": 3
   },
   "file_extension": ".py",
   "mimetype": "text/x-python",
   "name": "python",
   "nbconvert_exporter": "python",
   "pygments_lexer": "ipython3",
   "version": "3.11.9"
  }
 },
 "nbformat": 4,
 "nbformat_minor": 2
}
