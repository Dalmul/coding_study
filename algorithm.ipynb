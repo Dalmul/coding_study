{
 "cells": [
  {
   "cell_type": "markdown",
   "metadata": {},
   "source": [
    "### 다양한 정렬 알고리즘\n",
    "\n",
    "- 정렬 알고리즘 : 주어진 목록을 정해진 순서대로 정렬\n",
    "    - 버블 정렬 (Bubble Sort)\n",
    "    - 삽입 정렬 (Insertion Sort)\n",
    "    - 퀵 정렬 (Quick Sort)\n",
    "    - 합병 정렬 (Merge Sort)"
   ]
  },
  {
   "cell_type": "markdown",
   "metadata": {},
   "source": [
    "#### 정렬 알고리즘 : 버블 정렬\n",
    "\n",
    "- 가장 간단하지만, 비효율적인 정렬 방식\n",
    "1. 첫 번째 원소부터 시작하여, 인접한 두 원소를 비교\n",
    "2. 앞의 원소가 뒤의 원소보다 크면 순서를 변경\n",
    "3. 이 과정을 처음부터 끝까지 반복, 위의 과정으로 가장 큰 원소가 제일 오른쪽에 위치\n",
    "4. 모든 원소가 정렬될 때까지 반복"
   ]
  },
  {
   "cell_type": "code",
   "execution_count": null,
   "metadata": {},
   "outputs": [],
   "source": []
  }
 ],
 "metadata": {
  "language_info": {
   "name": "python"
  }
 },
 "nbformat": 4,
 "nbformat_minor": 2
}
